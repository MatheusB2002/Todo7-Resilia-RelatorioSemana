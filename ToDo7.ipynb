{
  "nbformat": 4,
  "nbformat_minor": 0,
  "metadata": {
    "colab": {
      "provenance": [],
      "collapsed_sections": []
    },
    "kernelspec": {
      "name": "python3",
      "display_name": "Python 3"
    },
    "language_info": {
      "name": "python"
    }
  },
  "cells": [
    {
      "cell_type": "markdown",
      "source": [
        "![banner](https://i.ibb.co/mSL5Qbv/To-Do7-Resilia.gif)"
      ],
      "metadata": {
        "id": "E-B9qHRt6r50"
      }
    },
    {
      "cell_type": "markdown",
      "source": [
        "![first](https://i.ibb.co/Z82JkqP/To-Do7-Resilia-3.gif)"
      ],
      "metadata": {
        "id": "3JFduyKE9nKZ"
      }
    },
    {
      "cell_type": "code",
      "source": [
        "import pandas as pd\n",
        "import numpy as np\n",
        "dictSemana = {'Limpeza': [100,0,100,0,100,100,0],\n",
        "              'Comida': [221.60,375.31,412.00,495.20,411.53,245.00,164.00],\n",
        "              'Transporte': [150,100,125,300,275,525,75],\n",
        "              'Outros': [0,0,2310,500,0,0,820],\n",
        "              'Ganhos': [2200,2420.50,3391,5322,4898.50,4200,3893]}\n",
        "\n",
        "tabelaSemanal = pd.DataFrame(dictSemana, index = ['Segunda','Terça','Quarta','Quinta','Sexta','Sábado','Domingo'],)\n",
        "tabelaSemanal"
      ],
      "metadata": {
        "colab": {
          "base_uri": "https://localhost:8080/",
          "height": 269
        },
        "id": "UtkpYASj_FR_",
        "outputId": "14dee56b-73f1-4250-9b6e-a8044f8a91a2"
      },
      "execution_count": 72,
      "outputs": [
        {
          "output_type": "execute_result",
          "data": {
            "text/plain": [
              "         Limpeza  Comida  Transporte  Outros  Ganhos\n",
              "Segunda      100  221.60         150       0  2200.0\n",
              "Terça          0  375.31         100       0  2420.5\n",
              "Quarta       100  412.00         125    2310  3391.0\n",
              "Quinta         0  495.20         300     500  5322.0\n",
              "Sexta        100  411.53         275       0  4898.5\n",
              "Sábado       100  245.00         525       0  4200.0\n",
              "Domingo        0  164.00          75     820  3893.0"
            ],
            "text/html": [
              "\n",
              "  <div id=\"df-0771a1ef-cbf3-41d3-b2fb-f482a365f384\">\n",
              "    <div class=\"colab-df-container\">\n",
              "      <div>\n",
              "<style scoped>\n",
              "    .dataframe tbody tr th:only-of-type {\n",
              "        vertical-align: middle;\n",
              "    }\n",
              "\n",
              "    .dataframe tbody tr th {\n",
              "        vertical-align: top;\n",
              "    }\n",
              "\n",
              "    .dataframe thead th {\n",
              "        text-align: right;\n",
              "    }\n",
              "</style>\n",
              "<table border=\"1\" class=\"dataframe\">\n",
              "  <thead>\n",
              "    <tr style=\"text-align: right;\">\n",
              "      <th></th>\n",
              "      <th>Limpeza</th>\n",
              "      <th>Comida</th>\n",
              "      <th>Transporte</th>\n",
              "      <th>Outros</th>\n",
              "      <th>Ganhos</th>\n",
              "    </tr>\n",
              "  </thead>\n",
              "  <tbody>\n",
              "    <tr>\n",
              "      <th>Segunda</th>\n",
              "      <td>100</td>\n",
              "      <td>221.60</td>\n",
              "      <td>150</td>\n",
              "      <td>0</td>\n",
              "      <td>2200.0</td>\n",
              "    </tr>\n",
              "    <tr>\n",
              "      <th>Terça</th>\n",
              "      <td>0</td>\n",
              "      <td>375.31</td>\n",
              "      <td>100</td>\n",
              "      <td>0</td>\n",
              "      <td>2420.5</td>\n",
              "    </tr>\n",
              "    <tr>\n",
              "      <th>Quarta</th>\n",
              "      <td>100</td>\n",
              "      <td>412.00</td>\n",
              "      <td>125</td>\n",
              "      <td>2310</td>\n",
              "      <td>3391.0</td>\n",
              "    </tr>\n",
              "    <tr>\n",
              "      <th>Quinta</th>\n",
              "      <td>0</td>\n",
              "      <td>495.20</td>\n",
              "      <td>300</td>\n",
              "      <td>500</td>\n",
              "      <td>5322.0</td>\n",
              "    </tr>\n",
              "    <tr>\n",
              "      <th>Sexta</th>\n",
              "      <td>100</td>\n",
              "      <td>411.53</td>\n",
              "      <td>275</td>\n",
              "      <td>0</td>\n",
              "      <td>4898.5</td>\n",
              "    </tr>\n",
              "    <tr>\n",
              "      <th>Sábado</th>\n",
              "      <td>100</td>\n",
              "      <td>245.00</td>\n",
              "      <td>525</td>\n",
              "      <td>0</td>\n",
              "      <td>4200.0</td>\n",
              "    </tr>\n",
              "    <tr>\n",
              "      <th>Domingo</th>\n",
              "      <td>0</td>\n",
              "      <td>164.00</td>\n",
              "      <td>75</td>\n",
              "      <td>820</td>\n",
              "      <td>3893.0</td>\n",
              "    </tr>\n",
              "  </tbody>\n",
              "</table>\n",
              "</div>\n",
              "      <button class=\"colab-df-convert\" onclick=\"convertToInteractive('df-0771a1ef-cbf3-41d3-b2fb-f482a365f384')\"\n",
              "              title=\"Convert this dataframe to an interactive table.\"\n",
              "              style=\"display:none;\">\n",
              "        \n",
              "  <svg xmlns=\"http://www.w3.org/2000/svg\" height=\"24px\"viewBox=\"0 0 24 24\"\n",
              "       width=\"24px\">\n",
              "    <path d=\"M0 0h24v24H0V0z\" fill=\"none\"/>\n",
              "    <path d=\"M18.56 5.44l.94 2.06.94-2.06 2.06-.94-2.06-.94-.94-2.06-.94 2.06-2.06.94zm-11 1L8.5 8.5l.94-2.06 2.06-.94-2.06-.94L8.5 2.5l-.94 2.06-2.06.94zm10 10l.94 2.06.94-2.06 2.06-.94-2.06-.94-.94-2.06-.94 2.06-2.06.94z\"/><path d=\"M17.41 7.96l-1.37-1.37c-.4-.4-.92-.59-1.43-.59-.52 0-1.04.2-1.43.59L10.3 9.45l-7.72 7.72c-.78.78-.78 2.05 0 2.83L4 21.41c.39.39.9.59 1.41.59.51 0 1.02-.2 1.41-.59l7.78-7.78 2.81-2.81c.8-.78.8-2.07 0-2.86zM5.41 20L4 18.59l7.72-7.72 1.47 1.35L5.41 20z\"/>\n",
              "  </svg>\n",
              "      </button>\n",
              "      \n",
              "  <style>\n",
              "    .colab-df-container {\n",
              "      display:flex;\n",
              "      flex-wrap:wrap;\n",
              "      gap: 12px;\n",
              "    }\n",
              "\n",
              "    .colab-df-convert {\n",
              "      background-color: #E8F0FE;\n",
              "      border: none;\n",
              "      border-radius: 50%;\n",
              "      cursor: pointer;\n",
              "      display: none;\n",
              "      fill: #1967D2;\n",
              "      height: 32px;\n",
              "      padding: 0 0 0 0;\n",
              "      width: 32px;\n",
              "    }\n",
              "\n",
              "    .colab-df-convert:hover {\n",
              "      background-color: #E2EBFA;\n",
              "      box-shadow: 0px 1px 2px rgba(60, 64, 67, 0.3), 0px 1px 3px 1px rgba(60, 64, 67, 0.15);\n",
              "      fill: #174EA6;\n",
              "    }\n",
              "\n",
              "    [theme=dark] .colab-df-convert {\n",
              "      background-color: #3B4455;\n",
              "      fill: #D2E3FC;\n",
              "    }\n",
              "\n",
              "    [theme=dark] .colab-df-convert:hover {\n",
              "      background-color: #434B5C;\n",
              "      box-shadow: 0px 1px 3px 1px rgba(0, 0, 0, 0.15);\n",
              "      filter: drop-shadow(0px 1px 2px rgba(0, 0, 0, 0.3));\n",
              "      fill: #FFFFFF;\n",
              "    }\n",
              "  </style>\n",
              "\n",
              "      <script>\n",
              "        const buttonEl =\n",
              "          document.querySelector('#df-0771a1ef-cbf3-41d3-b2fb-f482a365f384 button.colab-df-convert');\n",
              "        buttonEl.style.display =\n",
              "          google.colab.kernel.accessAllowed ? 'block' : 'none';\n",
              "\n",
              "        async function convertToInteractive(key) {\n",
              "          const element = document.querySelector('#df-0771a1ef-cbf3-41d3-b2fb-f482a365f384');\n",
              "          const dataTable =\n",
              "            await google.colab.kernel.invokeFunction('convertToInteractive',\n",
              "                                                     [key], {});\n",
              "          if (!dataTable) return;\n",
              "\n",
              "          const docLinkHtml = 'Like what you see? Visit the ' +\n",
              "            '<a target=\"_blank\" href=https://colab.research.google.com/notebooks/data_table.ipynb>data table notebook</a>'\n",
              "            + ' to learn more about interactive tables.';\n",
              "          element.innerHTML = '';\n",
              "          dataTable['output_type'] = 'display_data';\n",
              "          await google.colab.output.renderOutput(dataTable, element);\n",
              "          const docLink = document.createElement('div');\n",
              "          docLink.innerHTML = docLinkHtml;\n",
              "          element.appendChild(docLink);\n",
              "        }\n",
              "      </script>\n",
              "    </div>\n",
              "  </div>\n",
              "  "
            ]
          },
          "metadata": {},
          "execution_count": 72
        }
      ]
    },
    {
      "cell_type": "markdown",
      "source": [
        "![Explicação da Primeira](https://i.ibb.co/0tKms2d/To-Do7-Resilia-4.gif)"
      ],
      "metadata": {
        "id": "oVgXYa9CM5yZ"
      }
    },
    {
      "cell_type": "code",
      "source": [
        "tiraSetePerCent = lambda x : x-x*0.07\n",
        "print('Apenas aplicando a função lambda:')\n",
        "print(tiraSetePerCent(tabelaSemanal['Ganhos']))\n",
        "print('\\nAplicando o apply pois é uma série:')\n",
        "print(tabelaSemanal['Ganhos'].apply(tiraSetePerCent))\n",
        "print('\\nAtribuindo o valor na tabela:')\n",
        "tabelaSemanal['Ganhos'] = tabelaSemanal['Ganhos'].apply(tiraSetePerCent)\n",
        "print(tabelaSemanal)"
      ],
      "metadata": {
        "id": "uARe-5h4FaOE"
      },
      "execution_count": null,
      "outputs": []
    },
    {
      "cell_type": "markdown",
      "source": [
        "![Explicação da Segunda](https://i.ibb.co/bH4YW4Q/To-Do7-Resilia-5.gif)"
      ],
      "metadata": {
        "id": "Ka7lfvRd19t2"
      }
    },
    {
      "cell_type": "code",
      "source": [
        "print('Apresentando com a função de soma:')\n",
        "print(sum(tabelaSemanal['Ganhos']))\n",
        "print('\\nApresentando a soma dos ganhos líquidos:')\n",
        "print(sum(tabelaSemanal['Ganhos'])-(sum(tabelaSemanal['Limpeza']))-(sum(tabelaSemanal['Comida']))-(sum(tabelaSemanal['Transporte']))-(sum(tabelaSemanal['Outros'])))"
      ],
      "metadata": {
        "id": "KYil4upgOaRq"
      },
      "execution_count": null,
      "outputs": []
    },
    {
      "cell_type": "markdown",
      "source": [
        "![Explicação da terceira](https://i.ibb.co/7QMT8fv/To-Do7-Resilia-6.gif)"
      ],
      "metadata": {
        "id": "jv2_oK096uao"
      }
    },
    {
      "cell_type": "code",
      "source": [
        "print('Aplicando a função de média:')\n",
        "print(round(tabelaSemanal['Ganhos'].mean(),2))\n",
        "print('\\nAplicando cálculo matemático da soma dos ganhos dividido pela quantidade de dias:')\n",
        "print(round(tabelaSemanal['Ganhos'].sum()/len(tabelaSemanal['Ganhos']),2))\n",
        "print('\\nApresentando a média dos ganhos líquidos da semana:')\n",
        "print(round(sum(tabelaSemanal['Ganhos'])-(sum(tabelaSemanal['Limpeza']))-(sum(tabelaSemanal['Comida']))-(sum(tabelaSemanal['Transporte']))-(sum(tabelaSemanal['Outros']))/len(tabelaSemanal['Ganhos']),2))"
      ],
      "metadata": {
        "id": "Zu3CXHuX2eEs"
      },
      "execution_count": null,
      "outputs": []
    },
    {
      "cell_type": "markdown",
      "source": [
        "![Explicação da Quarto](https://i.ibb.co/6yGKBnG/To-Do7-Resilia-7.gif)"
      ],
      "metadata": {
        "id": "DvFc-nr56-Nv"
      }
    },
    {
      "cell_type": "code",
      "source": [
        "dictSomaDespesas = {'Gasto com Limpeza': [tabelaSemanal['Limpeza'].sum()],\n",
        "                     'Gasto com Comida':[tabelaSemanal['Comida'].sum()],\n",
        "                     'Gasto com Transporte': [tabelaSemanal['Transporte'].sum()],\n",
        "                     'Outros Gastos': [tabelaSemanal['Outros'].sum()]}\n",
        "pd.DataFrame(dictSomaDespesas, index = ['Semana'])"
      ],
      "metadata": {
        "id": "ACpQtGjW6-jG"
      },
      "execution_count": null,
      "outputs": []
    },
    {
      "cell_type": "markdown",
      "source": [
        "![Explicação da Quinta](https://i.ibb.co/F7qbqtS/To-Do7-Resilia-8.gif)"
      ],
      "metadata": {
        "id": "aCAt_9J2CmbD"
      }
    },
    {
      "cell_type": "code",
      "source": [
        "dictMediaDespesas = {'Gasto com Limpeza': [tabelaSemanal['Limpeza'].mean()],\n",
        "                     'Gasto com Comida':[tabelaSemanal['Comida'].mean()],\n",
        "                     'Gasto com Transporte': [tabelaSemanal['Transporte'].mean()],\n",
        "                     'Outros Gastos': [tabelaSemanal['Outros'].mean()]}\n",
        "pd.DataFrame(dictMediaDespesas, index = ['Semana'])"
      ],
      "metadata": {
        "id": "CHFMBNh4BmUd"
      },
      "execution_count": null,
      "outputs": []
    },
    {
      "cell_type": "markdown",
      "source": [
        "![Explicação da Sexta](https://i.ibb.co/f2yCvrn/To-Do7-Resilia-9.gif)"
      ],
      "metadata": {
        "id": "gv4ILDweCzqF"
      }
    },
    {
      "cell_type": "code",
      "source": [
        "calculo = tabelaSemanal['Ganhos'] - tabelaSemanal.drop('Ganhos',axis ='columns').apply(sum, axis= 'columns')\n",
        "pd.DataFrame(calculo).rename(columns = {0:'Total do dia'})"
      ],
      "metadata": {
        "id": "prKQSa0RDC78"
      },
      "execution_count": null,
      "outputs": []
    },
    {
      "cell_type": "markdown",
      "source": [
        "![Despedida](https://i.ibb.co/YDqhC40/To-Do7-Resilia-10.gif)"
      ],
      "metadata": {
        "id": "U1W0OxKJPxZP"
      }
    }
  ]
}