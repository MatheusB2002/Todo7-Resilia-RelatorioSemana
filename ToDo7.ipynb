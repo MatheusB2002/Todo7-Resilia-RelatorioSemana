{
  "nbformat": 4,
  "nbformat_minor": 0,
  "metadata": {
    "colab": {
      "provenance": [],
      "include_colab_link": true
    },
    "kernelspec": {
      "name": "python3",
      "display_name": "Python 3"
    },
    "language_info": {
      "name": "python"
    }
  },
  "cells": [
    {
      "cell_type": "markdown",
      "metadata": {
        "id": "view-in-github",
        "colab_type": "text"
      },
      "source": [
        "<a href=\"https://colab.research.google.com/github/MatheusB2002/Todo7-Resilia-RelatorioSemana/blob/main/ToDo7.ipynb\" target=\"_parent\"><img src=\"https://colab.research.google.com/assets/colab-badge.svg\" alt=\"Open In Colab\"/></a>"
      ]
    },
    {
      "cell_type": "markdown",
      "source": [
        "![banner](https://i.ibb.co/mSL5Qbv/To-Do7-Resilia.gif)"
      ],
      "metadata": {
        "id": "E-B9qHRt6r50"
      }
    },
    {
      "cell_type": "markdown",
      "source": [
        "![first](https://i.ibb.co/Z82JkqP/To-Do7-Resilia-3.gif)"
      ],
      "metadata": {
        "id": "3JFduyKE9nKZ"
      }
    },
    {
      "cell_type": "code",
      "source": [
        "import pandas as pd\n",
        "import numpy as np\n",
        "dictSemana = {'Limpeza': [100,0,100,0,100,100,0],\n",
        "              'Comida': [221.60,375.31,412.00,495.20,411.53,245.00,164.00],\n",
        "              'Transporte': [150,100,125,300,275,525,75],\n",
        "              'Outros': [0,0,2310,500,0,0,820],\n",
        "              'Ganhos': [2200,2420.50,3391,5322,4898.50,4200,3893]}\n",
        "\n",
        "tabelaSemanal = pd.DataFrame(dictSemana, index = ['Segunda','Terça','Quarta','Quinta','Sexta','Sábado','Domingo'],)\n",
        "tabelaSemanal"
      ],
      "metadata": {
        "colab": {
          "base_uri": "https://localhost:8080/",
          "height": 269
        },
        "id": "UtkpYASj_FR_",
        "outputId": "05816101-7d11-4395-ba7f-f1a9c7249145"
      },
      "execution_count": null,
      "outputs": [
        {
          "output_type": "execute_result",
          "data": {
            "text/plain": [
              "         Limpeza  Comida  Transporte  Outros  Ganhos\n",
              "Segunda      100  221.60         150       0  2200.0\n",
              "Terça          0  375.31         100       0  2420.5\n",
              "Quarta       100  412.00         125    2310  3391.0\n",
              "Quinta         0  495.20         300     500  5322.0\n",
              "Sexta        100  411.53         275       0  4898.5\n",
              "Sábado       100  245.00         525       0  4200.0\n",
              "Domingo        0  164.00          75     820  3893.0"
            ],
            "text/html": [
              "\n",
              "  <div id=\"df-b0687691-83c0-4734-9b36-7522d42e6126\">\n",
              "    <div class=\"colab-df-container\">\n",
              "      <div>\n",
              "<style scoped>\n",
              "    .dataframe tbody tr th:only-of-type {\n",
              "        vertical-align: middle;\n",
              "    }\n",
              "\n",
              "    .dataframe tbody tr th {\n",
              "        vertical-align: top;\n",
              "    }\n",
              "\n",
              "    .dataframe thead th {\n",
              "        text-align: right;\n",
              "    }\n",
              "</style>\n",
              "<table border=\"1\" class=\"dataframe\">\n",
              "  <thead>\n",
              "    <tr style=\"text-align: right;\">\n",
              "      <th></th>\n",
              "      <th>Limpeza</th>\n",
              "      <th>Comida</th>\n",
              "      <th>Transporte</th>\n",
              "      <th>Outros</th>\n",
              "      <th>Ganhos</th>\n",
              "    </tr>\n",
              "  </thead>\n",
              "  <tbody>\n",
              "    <tr>\n",
              "      <th>Segunda</th>\n",
              "      <td>100</td>\n",
              "      <td>221.60</td>\n",
              "      <td>150</td>\n",
              "      <td>0</td>\n",
              "      <td>2200.0</td>\n",
              "    </tr>\n",
              "    <tr>\n",
              "      <th>Terça</th>\n",
              "      <td>0</td>\n",
              "      <td>375.31</td>\n",
              "      <td>100</td>\n",
              "      <td>0</td>\n",
              "      <td>2420.5</td>\n",
              "    </tr>\n",
              "    <tr>\n",
              "      <th>Quarta</th>\n",
              "      <td>100</td>\n",
              "      <td>412.00</td>\n",
              "      <td>125</td>\n",
              "      <td>2310</td>\n",
              "      <td>3391.0</td>\n",
              "    </tr>\n",
              "    <tr>\n",
              "      <th>Quinta</th>\n",
              "      <td>0</td>\n",
              "      <td>495.20</td>\n",
              "      <td>300</td>\n",
              "      <td>500</td>\n",
              "      <td>5322.0</td>\n",
              "    </tr>\n",
              "    <tr>\n",
              "      <th>Sexta</th>\n",
              "      <td>100</td>\n",
              "      <td>411.53</td>\n",
              "      <td>275</td>\n",
              "      <td>0</td>\n",
              "      <td>4898.5</td>\n",
              "    </tr>\n",
              "    <tr>\n",
              "      <th>Sábado</th>\n",
              "      <td>100</td>\n",
              "      <td>245.00</td>\n",
              "      <td>525</td>\n",
              "      <td>0</td>\n",
              "      <td>4200.0</td>\n",
              "    </tr>\n",
              "    <tr>\n",
              "      <th>Domingo</th>\n",
              "      <td>0</td>\n",
              "      <td>164.00</td>\n",
              "      <td>75</td>\n",
              "      <td>820</td>\n",
              "      <td>3893.0</td>\n",
              "    </tr>\n",
              "  </tbody>\n",
              "</table>\n",
              "</div>\n",
              "      <button class=\"colab-df-convert\" onclick=\"convertToInteractive('df-b0687691-83c0-4734-9b36-7522d42e6126')\"\n",
              "              title=\"Convert this dataframe to an interactive table.\"\n",
              "              style=\"display:none;\">\n",
              "        \n",
              "  <svg xmlns=\"http://www.w3.org/2000/svg\" height=\"24px\"viewBox=\"0 0 24 24\"\n",
              "       width=\"24px\">\n",
              "    <path d=\"M0 0h24v24H0V0z\" fill=\"none\"/>\n",
              "    <path d=\"M18.56 5.44l.94 2.06.94-2.06 2.06-.94-2.06-.94-.94-2.06-.94 2.06-2.06.94zm-11 1L8.5 8.5l.94-2.06 2.06-.94-2.06-.94L8.5 2.5l-.94 2.06-2.06.94zm10 10l.94 2.06.94-2.06 2.06-.94-2.06-.94-.94-2.06-.94 2.06-2.06.94z\"/><path d=\"M17.41 7.96l-1.37-1.37c-.4-.4-.92-.59-1.43-.59-.52 0-1.04.2-1.43.59L10.3 9.45l-7.72 7.72c-.78.78-.78 2.05 0 2.83L4 21.41c.39.39.9.59 1.41.59.51 0 1.02-.2 1.41-.59l7.78-7.78 2.81-2.81c.8-.78.8-2.07 0-2.86zM5.41 20L4 18.59l7.72-7.72 1.47 1.35L5.41 20z\"/>\n",
              "  </svg>\n",
              "      </button>\n",
              "      \n",
              "  <style>\n",
              "    .colab-df-container {\n",
              "      display:flex;\n",
              "      flex-wrap:wrap;\n",
              "      gap: 12px;\n",
              "    }\n",
              "\n",
              "    .colab-df-convert {\n",
              "      background-color: #E8F0FE;\n",
              "      border: none;\n",
              "      border-radius: 50%;\n",
              "      cursor: pointer;\n",
              "      display: none;\n",
              "      fill: #1967D2;\n",
              "      height: 32px;\n",
              "      padding: 0 0 0 0;\n",
              "      width: 32px;\n",
              "    }\n",
              "\n",
              "    .colab-df-convert:hover {\n",
              "      background-color: #E2EBFA;\n",
              "      box-shadow: 0px 1px 2px rgba(60, 64, 67, 0.3), 0px 1px 3px 1px rgba(60, 64, 67, 0.15);\n",
              "      fill: #174EA6;\n",
              "    }\n",
              "\n",
              "    [theme=dark] .colab-df-convert {\n",
              "      background-color: #3B4455;\n",
              "      fill: #D2E3FC;\n",
              "    }\n",
              "\n",
              "    [theme=dark] .colab-df-convert:hover {\n",
              "      background-color: #434B5C;\n",
              "      box-shadow: 0px 1px 3px 1px rgba(0, 0, 0, 0.15);\n",
              "      filter: drop-shadow(0px 1px 2px rgba(0, 0, 0, 0.3));\n",
              "      fill: #FFFFFF;\n",
              "    }\n",
              "  </style>\n",
              "\n",
              "      <script>\n",
              "        const buttonEl =\n",
              "          document.querySelector('#df-b0687691-83c0-4734-9b36-7522d42e6126 button.colab-df-convert');\n",
              "        buttonEl.style.display =\n",
              "          google.colab.kernel.accessAllowed ? 'block' : 'none';\n",
              "\n",
              "        async function convertToInteractive(key) {\n",
              "          const element = document.querySelector('#df-b0687691-83c0-4734-9b36-7522d42e6126');\n",
              "          const dataTable =\n",
              "            await google.colab.kernel.invokeFunction('convertToInteractive',\n",
              "                                                     [key], {});\n",
              "          if (!dataTable) return;\n",
              "\n",
              "          const docLinkHtml = 'Like what you see? Visit the ' +\n",
              "            '<a target=\"_blank\" href=https://colab.research.google.com/notebooks/data_table.ipynb>data table notebook</a>'\n",
              "            + ' to learn more about interactive tables.';\n",
              "          element.innerHTML = '';\n",
              "          dataTable['output_type'] = 'display_data';\n",
              "          await google.colab.output.renderOutput(dataTable, element);\n",
              "          const docLink = document.createElement('div');\n",
              "          docLink.innerHTML = docLinkHtml;\n",
              "          element.appendChild(docLink);\n",
              "        }\n",
              "      </script>\n",
              "    </div>\n",
              "  </div>\n",
              "  "
            ]
          },
          "metadata": {},
          "execution_count": 1
        }
      ]
    },
    {
      "cell_type": "markdown",
      "source": [
        "![Explicação da Primeira](https://i.ibb.co/0tKms2d/To-Do7-Resilia-4.gif)"
      ],
      "metadata": {
        "id": "oVgXYa9CM5yZ"
      }
    },
    {
      "cell_type": "code",
      "source": [
        "tiraSetePerCent = lambda x : x-x*0.07\n",
        "print('Apenas aplicando a função lambda:')\n",
        "print(tiraSetePerCent(tabelaSemanal['Ganhos']))\n",
        "print('\\nAplicando o apply pois é uma série:')\n",
        "print(tabelaSemanal['Ganhos'].apply(tiraSetePerCent))\n",
        "print('\\nAtribuindo o valor na tabela:')\n",
        "tabelaSemanal['Ganhos'] = tabelaSemanal[['Ganhos']].apply(tiraSetePerCent)\n",
        "print(tabelaSemanal)"
      ],
      "metadata": {
        "id": "uARe-5h4FaOE",
        "colab": {
          "base_uri": "https://localhost:8080/"
        },
        "outputId": "d75b0277-0b0e-4674-ec87-22d86f7f32eb"
      },
      "execution_count": null,
      "outputs": [
        {
          "output_type": "stream",
          "name": "stdout",
          "text": [
            "Apenas aplicando a função lambda:\n",
            "Segunda    1902.78000\n",
            "Terça      2093.49045\n",
            "Quarta     2932.87590\n",
            "Quinta     4602.99780\n",
            "Sexta      4236.71265\n",
            "Sábado     3632.58000\n",
            "Domingo    3367.05570\n",
            "Name: Ganhos, dtype: float64\n",
            "\n",
            "Aplicando o apply pois é uma série:\n",
            "Segunda    1902.78000\n",
            "Terça      2093.49045\n",
            "Quarta     2932.87590\n",
            "Quinta     4602.99780\n",
            "Sexta      4236.71265\n",
            "Sábado     3632.58000\n",
            "Domingo    3367.05570\n",
            "Name: Ganhos, dtype: float64\n",
            "\n",
            "Atribuindo o valor na tabela:\n",
            "         Limpeza  Comida  Transporte  Outros      Ganhos\n",
            "Segunda      100  221.60         150       0  1902.78000\n",
            "Terça          0  375.31         100       0  2093.49045\n",
            "Quarta       100  412.00         125    2310  2932.87590\n",
            "Quinta         0  495.20         300     500  4602.99780\n",
            "Sexta        100  411.53         275       0  4236.71265\n",
            "Sábado       100  245.00         525       0  3632.58000\n",
            "Domingo        0  164.00          75     820  3367.05570\n"
          ]
        }
      ]
    },
    {
      "cell_type": "markdown",
      "source": [
        "![Explicação da Segunda](https://i.ibb.co/bH4YW4Q/To-Do7-Resilia-5.gif)"
      ],
      "metadata": {
        "id": "Ka7lfvRd19t2"
      }
    },
    {
      "cell_type": "code",
      "source": [
        "print('Apresentando com a função de soma:')\n",
        "print(sum(tabelaSemanal['Ganhos']))\n",
        "print('\\nApresentando a soma dos ganhos líquidos:')\n",
        "print(sum(tabelaSemanal['Ganhos'])-(sum(tabelaSemanal['Limpeza']))-(sum(tabelaSemanal['Comida']))-(sum(tabelaSemanal['Transporte']))-(sum(tabelaSemanal['Outros'])))"
      ],
      "metadata": {
        "id": "KYil4upgOaRq",
        "colab": {
          "base_uri": "https://localhost:8080/"
        },
        "outputId": "5ee20a72-aaee-4991-f93c-d0043165e259"
      },
      "execution_count": null,
      "outputs": [
        {
          "output_type": "stream",
          "name": "stdout",
          "text": [
            "Apresentando com a função de soma:\n",
            "22768.4925\n",
            "\n",
            "Apresentando a soma dos ganhos líquidos:\n",
            "14863.8525\n"
          ]
        }
      ]
    },
    {
      "cell_type": "markdown",
      "source": [
        "![Explicação da terceira](https://i.ibb.co/7QMT8fv/To-Do7-Resilia-6.gif)"
      ],
      "metadata": {
        "id": "jv2_oK096uao"
      }
    },
    {
      "cell_type": "code",
      "source": [
        "print('Aplicando a função de média:')\n",
        "print(round(tabelaSemanal['Ganhos'].mean(),2))\n",
        "print('\\nAplicando cálculo matemático da soma dos ganhos dividido pela quantidade de dias:')\n",
        "print(round(tabelaSemanal['Ganhos'].sum()/len(tabelaSemanal['Ganhos']),2))\n",
        "print('\\nApresentando a média dos ganhos líquidos da semana:')\n",
        "print(round(sum(tabelaSemanal['Ganhos'])-(sum(tabelaSemanal['Limpeza']))-(sum(tabelaSemanal['Comida']))-(sum(tabelaSemanal['Transporte']))-(sum(tabelaSemanal['Outros']))/len(tabelaSemanal['Ganhos']),2))"
      ],
      "metadata": {
        "id": "Zu3CXHuX2eEs",
        "colab": {
          "base_uri": "https://localhost:8080/"
        },
        "outputId": "d3ad6741-3354-40e0-e9a4-adfe3bd27e6d"
      },
      "execution_count": null,
      "outputs": [
        {
          "output_type": "stream",
          "name": "stdout",
          "text": [
            "Aplicando a função de média:\n",
            "3252.64\n",
            "\n",
            "Aplicando cálculo matemático da soma dos ganhos dividido pela quantidade de dias:\n",
            "3252.64\n",
            "\n",
            "Apresentando a média dos ganhos líquidos da semana:\n",
            "17975.28\n"
          ]
        }
      ]
    },
    {
      "cell_type": "markdown",
      "source": [
        "![Explicação da Quarto](https://i.ibb.co/6yGKBnG/To-Do7-Resilia-7.gif)"
      ],
      "metadata": {
        "id": "DvFc-nr56-Nv"
      }
    },
    {
      "cell_type": "code",
      "source": [
        "dictSomaDespesas = {'Gasto com Limpeza': [tabelaSemanal['Limpeza'].sum()],\n",
        "                     'Gasto com Comida':[tabelaSemanal['Comida'].sum()],\n",
        "                     'Gasto com Transporte': [tabelaSemanal['Transporte'].sum()],\n",
        "                     'Outros Gastos': [tabelaSemanal['Outros'].sum()]}\n",
        "pd.DataFrame(dictSomaDespesas, index = ['Semana'])"
      ],
      "metadata": {
        "id": "ACpQtGjW6-jG",
        "colab": {
          "base_uri": "https://localhost:8080/",
          "height": 142
        },
        "outputId": "9162c598-2ecc-41c0-e8e8-f58f80eab7bc"
      },
      "execution_count": null,
      "outputs": [
        {
          "output_type": "execute_result",
          "data": {
            "text/plain": [
              "        Gasto com Limpeza  Gasto com Comida  Gasto com Transporte  \\\n",
              "Semana                400           2324.64                  1550   \n",
              "\n",
              "        Outros Gastos  \n",
              "Semana           3630  "
            ],
            "text/html": [
              "\n",
              "  <div id=\"df-b58a395b-90ac-4935-89c2-d86e5e3c22ca\">\n",
              "    <div class=\"colab-df-container\">\n",
              "      <div>\n",
              "<style scoped>\n",
              "    .dataframe tbody tr th:only-of-type {\n",
              "        vertical-align: middle;\n",
              "    }\n",
              "\n",
              "    .dataframe tbody tr th {\n",
              "        vertical-align: top;\n",
              "    }\n",
              "\n",
              "    .dataframe thead th {\n",
              "        text-align: right;\n",
              "    }\n",
              "</style>\n",
              "<table border=\"1\" class=\"dataframe\">\n",
              "  <thead>\n",
              "    <tr style=\"text-align: right;\">\n",
              "      <th></th>\n",
              "      <th>Gasto com Limpeza</th>\n",
              "      <th>Gasto com Comida</th>\n",
              "      <th>Gasto com Transporte</th>\n",
              "      <th>Outros Gastos</th>\n",
              "    </tr>\n",
              "  </thead>\n",
              "  <tbody>\n",
              "    <tr>\n",
              "      <th>Semana</th>\n",
              "      <td>400</td>\n",
              "      <td>2324.64</td>\n",
              "      <td>1550</td>\n",
              "      <td>3630</td>\n",
              "    </tr>\n",
              "  </tbody>\n",
              "</table>\n",
              "</div>\n",
              "      <button class=\"colab-df-convert\" onclick=\"convertToInteractive('df-b58a395b-90ac-4935-89c2-d86e5e3c22ca')\"\n",
              "              title=\"Convert this dataframe to an interactive table.\"\n",
              "              style=\"display:none;\">\n",
              "        \n",
              "  <svg xmlns=\"http://www.w3.org/2000/svg\" height=\"24px\"viewBox=\"0 0 24 24\"\n",
              "       width=\"24px\">\n",
              "    <path d=\"M0 0h24v24H0V0z\" fill=\"none\"/>\n",
              "    <path d=\"M18.56 5.44l.94 2.06.94-2.06 2.06-.94-2.06-.94-.94-2.06-.94 2.06-2.06.94zm-11 1L8.5 8.5l.94-2.06 2.06-.94-2.06-.94L8.5 2.5l-.94 2.06-2.06.94zm10 10l.94 2.06.94-2.06 2.06-.94-2.06-.94-.94-2.06-.94 2.06-2.06.94z\"/><path d=\"M17.41 7.96l-1.37-1.37c-.4-.4-.92-.59-1.43-.59-.52 0-1.04.2-1.43.59L10.3 9.45l-7.72 7.72c-.78.78-.78 2.05 0 2.83L4 21.41c.39.39.9.59 1.41.59.51 0 1.02-.2 1.41-.59l7.78-7.78 2.81-2.81c.8-.78.8-2.07 0-2.86zM5.41 20L4 18.59l7.72-7.72 1.47 1.35L5.41 20z\"/>\n",
              "  </svg>\n",
              "      </button>\n",
              "      \n",
              "  <style>\n",
              "    .colab-df-container {\n",
              "      display:flex;\n",
              "      flex-wrap:wrap;\n",
              "      gap: 12px;\n",
              "    }\n",
              "\n",
              "    .colab-df-convert {\n",
              "      background-color: #E8F0FE;\n",
              "      border: none;\n",
              "      border-radius: 50%;\n",
              "      cursor: pointer;\n",
              "      display: none;\n",
              "      fill: #1967D2;\n",
              "      height: 32px;\n",
              "      padding: 0 0 0 0;\n",
              "      width: 32px;\n",
              "    }\n",
              "\n",
              "    .colab-df-convert:hover {\n",
              "      background-color: #E2EBFA;\n",
              "      box-shadow: 0px 1px 2px rgba(60, 64, 67, 0.3), 0px 1px 3px 1px rgba(60, 64, 67, 0.15);\n",
              "      fill: #174EA6;\n",
              "    }\n",
              "\n",
              "    [theme=dark] .colab-df-convert {\n",
              "      background-color: #3B4455;\n",
              "      fill: #D2E3FC;\n",
              "    }\n",
              "\n",
              "    [theme=dark] .colab-df-convert:hover {\n",
              "      background-color: #434B5C;\n",
              "      box-shadow: 0px 1px 3px 1px rgba(0, 0, 0, 0.15);\n",
              "      filter: drop-shadow(0px 1px 2px rgba(0, 0, 0, 0.3));\n",
              "      fill: #FFFFFF;\n",
              "    }\n",
              "  </style>\n",
              "\n",
              "      <script>\n",
              "        const buttonEl =\n",
              "          document.querySelector('#df-b58a395b-90ac-4935-89c2-d86e5e3c22ca button.colab-df-convert');\n",
              "        buttonEl.style.display =\n",
              "          google.colab.kernel.accessAllowed ? 'block' : 'none';\n",
              "\n",
              "        async function convertToInteractive(key) {\n",
              "          const element = document.querySelector('#df-b58a395b-90ac-4935-89c2-d86e5e3c22ca');\n",
              "          const dataTable =\n",
              "            await google.colab.kernel.invokeFunction('convertToInteractive',\n",
              "                                                     [key], {});\n",
              "          if (!dataTable) return;\n",
              "\n",
              "          const docLinkHtml = 'Like what you see? Visit the ' +\n",
              "            '<a target=\"_blank\" href=https://colab.research.google.com/notebooks/data_table.ipynb>data table notebook</a>'\n",
              "            + ' to learn more about interactive tables.';\n",
              "          element.innerHTML = '';\n",
              "          dataTable['output_type'] = 'display_data';\n",
              "          await google.colab.output.renderOutput(dataTable, element);\n",
              "          const docLink = document.createElement('div');\n",
              "          docLink.innerHTML = docLinkHtml;\n",
              "          element.appendChild(docLink);\n",
              "        }\n",
              "      </script>\n",
              "    </div>\n",
              "  </div>\n",
              "  "
            ]
          },
          "metadata": {},
          "execution_count": 6
        }
      ]
    },
    {
      "cell_type": "markdown",
      "source": [
        "![Explicação da Quinta](https://i.ibb.co/F7qbqtS/To-Do7-Resilia-8.gif)"
      ],
      "metadata": {
        "id": "aCAt_9J2CmbD"
      }
    },
    {
      "cell_type": "code",
      "source": [
        "dictMediaDespesas = {'Gasto com Limpeza': [tabelaSemanal['Limpeza'].mean()],\n",
        "                     'Gasto com Comida':[tabelaSemanal['Comida'].mean()],\n",
        "                     'Gasto com Transporte': [tabelaSemanal['Transporte'].mean()],\n",
        "                     'Outros Gastos': [tabelaSemanal['Outros'].mean()]}\n",
        "pd.DataFrame(dictMediaDespesas, index = ['Semana'])"
      ],
      "metadata": {
        "id": "CHFMBNh4BmUd",
        "colab": {
          "base_uri": "https://localhost:8080/",
          "height": 142
        },
        "outputId": "66a4cbcb-a26b-4b89-cdbd-2c8403645dd6"
      },
      "execution_count": null,
      "outputs": [
        {
          "output_type": "execute_result",
          "data": {
            "text/plain": [
              "        Gasto com Limpeza  Gasto com Comida  Gasto com Transporte  \\\n",
              "Semana          57.142857        332.091429            221.428571   \n",
              "\n",
              "        Outros Gastos  \n",
              "Semana     518.571429  "
            ],
            "text/html": [
              "\n",
              "  <div id=\"df-756ca200-0d90-4d7d-8507-02c4fb87301a\">\n",
              "    <div class=\"colab-df-container\">\n",
              "      <div>\n",
              "<style scoped>\n",
              "    .dataframe tbody tr th:only-of-type {\n",
              "        vertical-align: middle;\n",
              "    }\n",
              "\n",
              "    .dataframe tbody tr th {\n",
              "        vertical-align: top;\n",
              "    }\n",
              "\n",
              "    .dataframe thead th {\n",
              "        text-align: right;\n",
              "    }\n",
              "</style>\n",
              "<table border=\"1\" class=\"dataframe\">\n",
              "  <thead>\n",
              "    <tr style=\"text-align: right;\">\n",
              "      <th></th>\n",
              "      <th>Gasto com Limpeza</th>\n",
              "      <th>Gasto com Comida</th>\n",
              "      <th>Gasto com Transporte</th>\n",
              "      <th>Outros Gastos</th>\n",
              "    </tr>\n",
              "  </thead>\n",
              "  <tbody>\n",
              "    <tr>\n",
              "      <th>Semana</th>\n",
              "      <td>57.142857</td>\n",
              "      <td>332.091429</td>\n",
              "      <td>221.428571</td>\n",
              "      <td>518.571429</td>\n",
              "    </tr>\n",
              "  </tbody>\n",
              "</table>\n",
              "</div>\n",
              "      <button class=\"colab-df-convert\" onclick=\"convertToInteractive('df-756ca200-0d90-4d7d-8507-02c4fb87301a')\"\n",
              "              title=\"Convert this dataframe to an interactive table.\"\n",
              "              style=\"display:none;\">\n",
              "        \n",
              "  <svg xmlns=\"http://www.w3.org/2000/svg\" height=\"24px\"viewBox=\"0 0 24 24\"\n",
              "       width=\"24px\">\n",
              "    <path d=\"M0 0h24v24H0V0z\" fill=\"none\"/>\n",
              "    <path d=\"M18.56 5.44l.94 2.06.94-2.06 2.06-.94-2.06-.94-.94-2.06-.94 2.06-2.06.94zm-11 1L8.5 8.5l.94-2.06 2.06-.94-2.06-.94L8.5 2.5l-.94 2.06-2.06.94zm10 10l.94 2.06.94-2.06 2.06-.94-2.06-.94-.94-2.06-.94 2.06-2.06.94z\"/><path d=\"M17.41 7.96l-1.37-1.37c-.4-.4-.92-.59-1.43-.59-.52 0-1.04.2-1.43.59L10.3 9.45l-7.72 7.72c-.78.78-.78 2.05 0 2.83L4 21.41c.39.39.9.59 1.41.59.51 0 1.02-.2 1.41-.59l7.78-7.78 2.81-2.81c.8-.78.8-2.07 0-2.86zM5.41 20L4 18.59l7.72-7.72 1.47 1.35L5.41 20z\"/>\n",
              "  </svg>\n",
              "      </button>\n",
              "      \n",
              "  <style>\n",
              "    .colab-df-container {\n",
              "      display:flex;\n",
              "      flex-wrap:wrap;\n",
              "      gap: 12px;\n",
              "    }\n",
              "\n",
              "    .colab-df-convert {\n",
              "      background-color: #E8F0FE;\n",
              "      border: none;\n",
              "      border-radius: 50%;\n",
              "      cursor: pointer;\n",
              "      display: none;\n",
              "      fill: #1967D2;\n",
              "      height: 32px;\n",
              "      padding: 0 0 0 0;\n",
              "      width: 32px;\n",
              "    }\n",
              "\n",
              "    .colab-df-convert:hover {\n",
              "      background-color: #E2EBFA;\n",
              "      box-shadow: 0px 1px 2px rgba(60, 64, 67, 0.3), 0px 1px 3px 1px rgba(60, 64, 67, 0.15);\n",
              "      fill: #174EA6;\n",
              "    }\n",
              "\n",
              "    [theme=dark] .colab-df-convert {\n",
              "      background-color: #3B4455;\n",
              "      fill: #D2E3FC;\n",
              "    }\n",
              "\n",
              "    [theme=dark] .colab-df-convert:hover {\n",
              "      background-color: #434B5C;\n",
              "      box-shadow: 0px 1px 3px 1px rgba(0, 0, 0, 0.15);\n",
              "      filter: drop-shadow(0px 1px 2px rgba(0, 0, 0, 0.3));\n",
              "      fill: #FFFFFF;\n",
              "    }\n",
              "  </style>\n",
              "\n",
              "      <script>\n",
              "        const buttonEl =\n",
              "          document.querySelector('#df-756ca200-0d90-4d7d-8507-02c4fb87301a button.colab-df-convert');\n",
              "        buttonEl.style.display =\n",
              "          google.colab.kernel.accessAllowed ? 'block' : 'none';\n",
              "\n",
              "        async function convertToInteractive(key) {\n",
              "          const element = document.querySelector('#df-756ca200-0d90-4d7d-8507-02c4fb87301a');\n",
              "          const dataTable =\n",
              "            await google.colab.kernel.invokeFunction('convertToInteractive',\n",
              "                                                     [key], {});\n",
              "          if (!dataTable) return;\n",
              "\n",
              "          const docLinkHtml = 'Like what you see? Visit the ' +\n",
              "            '<a target=\"_blank\" href=https://colab.research.google.com/notebooks/data_table.ipynb>data table notebook</a>'\n",
              "            + ' to learn more about interactive tables.';\n",
              "          element.innerHTML = '';\n",
              "          dataTable['output_type'] = 'display_data';\n",
              "          await google.colab.output.renderOutput(dataTable, element);\n",
              "          const docLink = document.createElement('div');\n",
              "          docLink.innerHTML = docLinkHtml;\n",
              "          element.appendChild(docLink);\n",
              "        }\n",
              "      </script>\n",
              "    </div>\n",
              "  </div>\n",
              "  "
            ]
          },
          "metadata": {},
          "execution_count": 7
        }
      ]
    },
    {
      "cell_type": "markdown",
      "source": [
        "![Explicação da Sexta](https://i.ibb.co/f2yCvrn/To-Do7-Resilia-9.gif)"
      ],
      "metadata": {
        "id": "gv4ILDweCzqF"
      }
    },
    {
      "cell_type": "code",
      "source": [
        "calculo = tabelaSemanal['Ganhos'] - tabelaSemanal.drop('Ganhos',axis ='columns').apply(sum, axis= 'columns')\n",
        "pd.DataFrame(calculo).rename(columns = {0:'Total do dia'})"
      ],
      "metadata": {
        "id": "prKQSa0RDC78",
        "outputId": "936d680a-5820-45dd-f5a9-811bf5d36270",
        "colab": {
          "base_uri": "https://localhost:8080/",
          "height": 269
        }
      },
      "execution_count": null,
      "outputs": [
        {
          "output_type": "execute_result",
          "data": {
            "text/plain": [
              "         Total do dia\n",
              "Segunda    1431.18000\n",
              "Terça      1618.18045\n",
              "Quarta      -14.12410\n",
              "Quinta     3307.79780\n",
              "Sexta      3450.18265\n",
              "Sábado     2762.58000\n",
              "Domingo    2308.05570"
            ],
            "text/html": [
              "\n",
              "  <div id=\"df-3615f227-0dee-47e6-8494-ab42089dae39\">\n",
              "    <div class=\"colab-df-container\">\n",
              "      <div>\n",
              "<style scoped>\n",
              "    .dataframe tbody tr th:only-of-type {\n",
              "        vertical-align: middle;\n",
              "    }\n",
              "\n",
              "    .dataframe tbody tr th {\n",
              "        vertical-align: top;\n",
              "    }\n",
              "\n",
              "    .dataframe thead th {\n",
              "        text-align: right;\n",
              "    }\n",
              "</style>\n",
              "<table border=\"1\" class=\"dataframe\">\n",
              "  <thead>\n",
              "    <tr style=\"text-align: right;\">\n",
              "      <th></th>\n",
              "      <th>Total do dia</th>\n",
              "    </tr>\n",
              "  </thead>\n",
              "  <tbody>\n",
              "    <tr>\n",
              "      <th>Segunda</th>\n",
              "      <td>1431.18000</td>\n",
              "    </tr>\n",
              "    <tr>\n",
              "      <th>Terça</th>\n",
              "      <td>1618.18045</td>\n",
              "    </tr>\n",
              "    <tr>\n",
              "      <th>Quarta</th>\n",
              "      <td>-14.12410</td>\n",
              "    </tr>\n",
              "    <tr>\n",
              "      <th>Quinta</th>\n",
              "      <td>3307.79780</td>\n",
              "    </tr>\n",
              "    <tr>\n",
              "      <th>Sexta</th>\n",
              "      <td>3450.18265</td>\n",
              "    </tr>\n",
              "    <tr>\n",
              "      <th>Sábado</th>\n",
              "      <td>2762.58000</td>\n",
              "    </tr>\n",
              "    <tr>\n",
              "      <th>Domingo</th>\n",
              "      <td>2308.05570</td>\n",
              "    </tr>\n",
              "  </tbody>\n",
              "</table>\n",
              "</div>\n",
              "      <button class=\"colab-df-convert\" onclick=\"convertToInteractive('df-3615f227-0dee-47e6-8494-ab42089dae39')\"\n",
              "              title=\"Convert this dataframe to an interactive table.\"\n",
              "              style=\"display:none;\">\n",
              "        \n",
              "  <svg xmlns=\"http://www.w3.org/2000/svg\" height=\"24px\"viewBox=\"0 0 24 24\"\n",
              "       width=\"24px\">\n",
              "    <path d=\"M0 0h24v24H0V0z\" fill=\"none\"/>\n",
              "    <path d=\"M18.56 5.44l.94 2.06.94-2.06 2.06-.94-2.06-.94-.94-2.06-.94 2.06-2.06.94zm-11 1L8.5 8.5l.94-2.06 2.06-.94-2.06-.94L8.5 2.5l-.94 2.06-2.06.94zm10 10l.94 2.06.94-2.06 2.06-.94-2.06-.94-.94-2.06-.94 2.06-2.06.94z\"/><path d=\"M17.41 7.96l-1.37-1.37c-.4-.4-.92-.59-1.43-.59-.52 0-1.04.2-1.43.59L10.3 9.45l-7.72 7.72c-.78.78-.78 2.05 0 2.83L4 21.41c.39.39.9.59 1.41.59.51 0 1.02-.2 1.41-.59l7.78-7.78 2.81-2.81c.8-.78.8-2.07 0-2.86zM5.41 20L4 18.59l7.72-7.72 1.47 1.35L5.41 20z\"/>\n",
              "  </svg>\n",
              "      </button>\n",
              "      \n",
              "  <style>\n",
              "    .colab-df-container {\n",
              "      display:flex;\n",
              "      flex-wrap:wrap;\n",
              "      gap: 12px;\n",
              "    }\n",
              "\n",
              "    .colab-df-convert {\n",
              "      background-color: #E8F0FE;\n",
              "      border: none;\n",
              "      border-radius: 50%;\n",
              "      cursor: pointer;\n",
              "      display: none;\n",
              "      fill: #1967D2;\n",
              "      height: 32px;\n",
              "      padding: 0 0 0 0;\n",
              "      width: 32px;\n",
              "    }\n",
              "\n",
              "    .colab-df-convert:hover {\n",
              "      background-color: #E2EBFA;\n",
              "      box-shadow: 0px 1px 2px rgba(60, 64, 67, 0.3), 0px 1px 3px 1px rgba(60, 64, 67, 0.15);\n",
              "      fill: #174EA6;\n",
              "    }\n",
              "\n",
              "    [theme=dark] .colab-df-convert {\n",
              "      background-color: #3B4455;\n",
              "      fill: #D2E3FC;\n",
              "    }\n",
              "\n",
              "    [theme=dark] .colab-df-convert:hover {\n",
              "      background-color: #434B5C;\n",
              "      box-shadow: 0px 1px 3px 1px rgba(0, 0, 0, 0.15);\n",
              "      filter: drop-shadow(0px 1px 2px rgba(0, 0, 0, 0.3));\n",
              "      fill: #FFFFFF;\n",
              "    }\n",
              "  </style>\n",
              "\n",
              "      <script>\n",
              "        const buttonEl =\n",
              "          document.querySelector('#df-3615f227-0dee-47e6-8494-ab42089dae39 button.colab-df-convert');\n",
              "        buttonEl.style.display =\n",
              "          google.colab.kernel.accessAllowed ? 'block' : 'none';\n",
              "\n",
              "        async function convertToInteractive(key) {\n",
              "          const element = document.querySelector('#df-3615f227-0dee-47e6-8494-ab42089dae39');\n",
              "          const dataTable =\n",
              "            await google.colab.kernel.invokeFunction('convertToInteractive',\n",
              "                                                     [key], {});\n",
              "          if (!dataTable) return;\n",
              "\n",
              "          const docLinkHtml = 'Like what you see? Visit the ' +\n",
              "            '<a target=\"_blank\" href=https://colab.research.google.com/notebooks/data_table.ipynb>data table notebook</a>'\n",
              "            + ' to learn more about interactive tables.';\n",
              "          element.innerHTML = '';\n",
              "          dataTable['output_type'] = 'display_data';\n",
              "          await google.colab.output.renderOutput(dataTable, element);\n",
              "          const docLink = document.createElement('div');\n",
              "          docLink.innerHTML = docLinkHtml;\n",
              "          element.appendChild(docLink);\n",
              "        }\n",
              "      </script>\n",
              "    </div>\n",
              "  </div>\n",
              "  "
            ]
          },
          "metadata": {},
          "execution_count": 8
        }
      ]
    },
    {
      "cell_type": "markdown",
      "source": [
        "![Despedida](https://i.ibb.co/YDqhC40/To-Do7-Resilia-10.gif)"
      ],
      "metadata": {
        "id": "U1W0OxKJPxZP"
      }
    }
  ]
}